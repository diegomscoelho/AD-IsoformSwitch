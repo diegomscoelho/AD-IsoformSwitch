{
 "cells": [
  {
   "cell_type": "code",
   "execution_count": 1,
   "metadata": {},
   "outputs": [
    {
     "ename": "ModuleNotFoundError",
     "evalue": "No module named 'synapseclient'",
     "output_type": "error",
     "traceback": [
      "\u001b[0;31m---------------------------------------------------------------------------\u001b[0m",
      "\u001b[0;31mModuleNotFoundError\u001b[0m                       Traceback (most recent call last)",
      "\u001b[0;32m<ipython-input-1-52023fe1d14e>\u001b[0m in \u001b[0;36m<module>\u001b[0;34m\u001b[0m\n\u001b[1;32m      3\u001b[0m \u001b[0;34m\u001b[0m\u001b[0m\n\u001b[1;32m      4\u001b[0m \u001b[0;32mfrom\u001b[0m \u001b[0mtqdm\u001b[0m \u001b[0;32mimport\u001b[0m \u001b[0mtqdm_notebook\u001b[0m \u001b[0;32mas\u001b[0m \u001b[0mtqdm\u001b[0m\u001b[0;34m\u001b[0m\u001b[0;34m\u001b[0m\u001b[0m\n\u001b[0;32m----> 5\u001b[0;31m \u001b[0;32mimport\u001b[0m \u001b[0msynapseclient\u001b[0m\u001b[0;34m\u001b[0m\u001b[0;34m\u001b[0m\u001b[0m\n\u001b[0m\u001b[1;32m      6\u001b[0m \u001b[0;32mimport\u001b[0m \u001b[0mpandas\u001b[0m \u001b[0;32mas\u001b[0m \u001b[0mpd\u001b[0m\u001b[0;34m\u001b[0m\u001b[0;34m\u001b[0m\u001b[0m\n\u001b[1;32m      7\u001b[0m \u001b[0;32mimport\u001b[0m \u001b[0msubprocess\u001b[0m\u001b[0;34m\u001b[0m\u001b[0;34m\u001b[0m\u001b[0m\n",
      "\u001b[0;31mModuleNotFoundError\u001b[0m: No module named 'synapseclient'"
     ]
    }
   ],
   "source": [
    "# Necessary libraries\n",
    "from IPython.display import clear_output\n",
    "\n",
    "from tqdm import tqdm_notebook as tqdm\n",
    "import synapseclient\n",
    "import pandas as pd\n",
    "import subprocess\n",
    "import os.path\n",
    "import getpass\n",
    "\n",
    "# Set pathway\n",
    "local = os.getcwd()\n",
    "# Set synapse user\n",
    "syn_user = \"\"\n",
    "# Kallisto index-file\n",
    "kalRef = \"<PATH-TO>/Homo_sapiens.GRCh38.cdna.all.release-94_k31.idx\""
   ]
  },
  {
   "cell_type": "code",
   "execution_count": null,
   "metadata": {},
   "outputs": [],
   "source": [
    "# Import dataframe containing all .fastq files\n",
    "tablePath = local + \"data/MSBB_AllTissues_table.csv\"\n",
    "df = pd.read_csv(tablePath)\n",
    "df = df[-df.specimenID.str.contains('resequenced')] # Excludes resequenced\n",
    "df.head() # visualize"
   ]
  },
  {
   "cell_type": "code",
   "execution_count": null,
   "metadata": {},
   "outputs": [],
   "source": [
    "# Connect on server\n",
    "syn = synapseclient.login('diegomscoelho',getpass.getpass()) # Please do not share user content"
   ]
  },
  {
   "cell_type": "code",
   "execution_count": null,
   "metadata": {},
   "outputs": [],
   "source": [
    "# Download and Realignment\n",
    "\n",
    "df = df.sort_values(by=[\"name\"]) # Sort dataframe by name\n",
    "samples = df.specimenID.unique() # Samples list\n",
    "\n",
    "fqPath = local + \"/fastq\"\n",
    "klPath = local + \"/kallisto/\"\n",
    "os.popen('mkdir '+fqPath) # Create fastq Path\n",
    "os.popen('mkdir '+klPath) # Create kallisto output path\n",
    "\n",
    "# Directory to builded kallisto index\n",
    "kalRef = \"/home/dcoelho/Documents/references/human_kallisto/Homo_sapiens.GRCh38.cdna.all.release-94_k31.idx\"\n",
    "\n",
    "def runKallisto(samples,path):\n",
    "    \n",
    "    # Create sample directory path\n",
    "    kalDir = klPath + samples\n",
    "    os.popen('mkdir '+kalDir)\n",
    "    \n",
    "    # Import ids\n",
    "    \n",
    "    print(\"\\nSamples:\")\n",
    "    name1 = df.name[df.specimenID==samples].to_string().split()[1]\n",
    "    r1 = df.id[df.specimenID==samples].to_string().split()[1]\n",
    "    print(\"Sample.1: \"+name1)\n",
    "    print(\"r1: \"+r1)\n",
    "    \n",
    "    if os.path.isfile(kalDir+'/abundance.tsv'):\n",
    "        print(\"Sample \" + samples + \" was already processed!\")\n",
    "        pass\n",
    "    \n",
    "    else:\n",
    "        print(\"Downloading \" + samples + \" ...\")\n",
    "        file1 = syn.get(r1, downloadLocation=fqPath) # Download file1 to kallisto\n",
    "        #file2 = syn.get(r2, downloadLocation=fqPath) # Download file2 to kallisto\n",
    "\n",
    "        # Run Kallisto\n",
    "        print(\"Running kallisto on \" + samples + \" ...\")\n",
    "        subprocess.call('kallisto quant -i '+\n",
    "                 kalRef + ' -t 7 -l 100 -s 20 --single -o '+ kalDir+ ' '+\n",
    "                file1.path, shell=True)\n",
    "\n",
    "        # If necessary, remove files after using\n",
    "        os.popen('rm '+file1.path)\n"
   ]
  },
  {
   "cell_type": "code",
   "execution_count": null,
   "metadata": {},
   "outputs": [],
   "source": [
    "%timeit\n",
    "# Run process\n",
    "for i in tqdm(samples):\n",
    "    runKallisto(samples = i, path = local)"
   ]
  }
 ],
 "metadata": {
  "kernelspec": {
   "display_name": "Python 3",
   "language": "python",
   "name": "python3"
  },
  "language_info": {
   "codemirror_mode": {
    "name": "ipython",
    "version": 3
   },
   "file_extension": ".py",
   "mimetype": "text/x-python",
   "name": "python",
   "nbconvert_exporter": "python",
   "pygments_lexer": "ipython3",
   "version": "3.7.6"
  }
 },
 "nbformat": 4,
 "nbformat_minor": 2
}
