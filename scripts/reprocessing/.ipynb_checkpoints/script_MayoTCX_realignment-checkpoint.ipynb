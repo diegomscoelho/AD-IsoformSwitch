{
 "cells": [
  {
   "cell_type": "code",
   "execution_count": null,
   "metadata": {},
   "outputs": [],
   "source": [
    "!pip install synapseclient==1.6.1 pandas"
   ]
  },
  {
   "cell_type": "code",
   "execution_count": null,
   "metadata": {},
   "outputs": [],
   "source": [
    "# Necessary libraries\n",
    "from IPython.display import clear_output\n",
    "\n",
    "from tqdm import tqdm_notebook as tqdm\n",
    "import synapseclient\n",
    "import pandas as pd\n",
    "import subprocess\n",
    "import os\n",
    "import getpass\n",
    "\n",
    "# Set pathway\n",
    "local = os.getcwd()\n",
    "# Set synapse user\n",
    "syn_user = \"\"\n",
    "# Kallisto index-file\n",
    "kalRef = \"<PATH-TO>/Homo_sapiens.GRCh38.cdna.all.release-94_k31.idx\""
   ]
  },
  {
   "cell_type": "code",
   "execution_count": null,
   "metadata": {},
   "outputs": [],
   "source": [
    "# Import dataframe containing all .fastq files\n",
    "tablePath = local + \"/data/MayoRNAseq_TCX_table.csv\"\n",
    "df = pd.read_csv(tablePath)\n",
    "df.head() # visualize"
   ]
  },
  {
   "cell_type": "code",
   "execution_count": null,
   "metadata": {},
   "outputs": [],
   "source": [
    "# Connect on server\n",
    "syn = synapseclient.login(syn_user, getpass.getpass()) # Please do not share user content"
   ]
  },
  {
   "cell_type": "code",
   "execution_count": null,
   "metadata": {},
   "outputs": [],
   "source": [
    "# Download and Realignment\n",
    "\n",
    "df = df.sort_values(by=[\"name\"]) # Sort dataframe by name\n",
    "samples = df.specimenID.unique() # Samples list\n",
    "\n",
    "fqPath = local + \"/fastq\"\n",
    "\n",
    "def runKallisto(samples,path):\n",
    "    \n",
    "    # Create kallisto output dir\n",
    "    kalDir = local + \"/kallisto/MAYO_TCX/\" + samples\n",
    "    # Create directory\n",
    "    os.popen(\"mkdir \" + kalDir)\n",
    "    \n",
    "    # Import ids\n",
    "    \n",
    "    print(\"\\nSamples:\")\n",
    "    name1, name2 = df.name[df.specimenID==samples]\n",
    "    r1, r2 = df.id[df.specimenID==samples]\n",
    "    print(\"Sample.1: \"+name1)\n",
    "    print(\"r1: \"+r1)\n",
    "    print(\"Sample.2: \"+name2)\n",
    "    print(\"r2: \"+r2)\n",
    "    \n",
    "    if os.path.isfile(kalDir + \"/abundance.tsv\"):\n",
    "        print(f\"Sample {samples} was already processed!\")\n",
    "        pass\n",
    "    \n",
    "    else:\n",
    "        print(\"Downloading \" + samples + \" ...\")\n",
    "        file1 = syn.get(r1, downloadLocation=fqPath) # Download file1 to kallisto\n",
    "        file2 = syn.get(r2, downloadLocation=fqPath) # Download file2 to kallisto\n",
    "\n",
    "        # Run Kallisto\n",
    "        print(f\"Running kallisto on {samples} ...\")\n",
    "        subprocess.call(f\"kallisto quant -i {kalRef} -t 7 -l 100 -s 20 -o {kalDir} {file1.path} {file2.path}\", shell=True)\n",
    "\n",
    "        # Remove files\n",
    "        os.popen(\"rm \" + file1.path)\n",
    "        os.popen(\"rm \" + file2.path)\n",
    "    \n",
    "for i in samples:\n",
    "    runKallisto(samples = i, path = local)\n"
   ]
  },
  {
   "cell_type": "code",
   "execution_count": null,
   "metadata": {},
   "outputs": [],
   "source": [
    "%timeit\n",
    "# Run process\n",
    "for i in tqdm(samples):\n",
    "    runKallisto(samples = i, path = local)"
   ]
  }
 ],
 "metadata": {
  "kernelspec": {
   "display_name": "Python 3",
   "language": "python",
   "name": "python3"
  },
  "language_info": {
   "codemirror_mode": {
    "name": "ipython",
    "version": 3
   },
   "file_extension": ".py",
   "mimetype": "text/x-python",
   "name": "python",
   "nbconvert_exporter": "python",
   "pygments_lexer": "ipython3",
   "version": "3.7.6"
  }
 },
 "nbformat": 4,
 "nbformat_minor": 2
}
